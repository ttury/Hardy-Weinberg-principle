{
  "nbformat": 4,
  "nbformat_minor": 0,
  "metadata": {
    "colab": {
      "name": "Hardy–Weinberg principle.ipynb",
      "provenance": [],
      "authorship_tag": "ABX9TyMxMDV+JVquA+C920hSJgOG",
      "include_colab_link": true
    },
    "kernelspec": {
      "name": "python3",
      "display_name": "Python 3"
    },
    "language_info": {
      "name": "python"
    }
  },
  "cells": [
    {
      "cell_type": "markdown",
      "metadata": {
        "id": "view-in-github",
        "colab_type": "text"
      },
      "source": [
        "<a href=\"https://colab.research.google.com/github/ttury/Hardy-Weinberg-principle/blob/main/Hardy%E2%80%93Weinberg_principle.ipynb\" target=\"_parent\"><img src=\"https://colab.research.google.com/assets/colab-badge.svg\" alt=\"Open In Colab\"/></a>"
      ]
    },
    {
      "cell_type": "code",
      "execution_count": 12,
      "metadata": {
        "id": "Q-e2x-i6CiRr"
      },
      "outputs": [],
      "source": [
        "from random import randint, shuffle, sample, choice\n",
        "\n",
        "class entity:\n",
        "  def __init__(self, gene):\n",
        "    self.gene = gene\n",
        "    # gene= [A, A] or [A, a] or [a, A] or [a, a]\n",
        "\n",
        "class Mendelian(entity):\n",
        "  def __init__(self, AA_num, Aa_num, aa_num):\n",
        "    self.entities = []\n",
        "    for _ in range(AA_num):\n",
        "      self.entities.append(entity(['A', 'A']))\n",
        "    for _ in range(Aa_num):\n",
        "      self.entities.append(entity(['A', 'a']))\n",
        "    for _ in range(aa_num):\n",
        "      self.entities.append(entity(['a', 'a']))\n",
        "\n",
        "  def mating(self, parents):\n",
        "    parent1 = parents[0]\n",
        "    parent2 = parents[1]\n",
        "    child_gene1 = parent1.gene[choice([0, 1])]\n",
        "    child_gene2 = parent2.gene[choice([0, 1])]\n",
        "    child_gene = [child_gene1, child_gene2]\n",
        "    if child_gene == ['a', 'A']:  child_gene = ['A', 'a']\n",
        "    child = entity(child_gene)\n",
        "    return child\n",
        "  \n",
        "  def getRatio(self):\n",
        "    AA_num = 0\n",
        "    Aa_num = 0\n",
        "    aa_num = 0\n",
        "    for entity in self.entities:\n",
        "      if entity.gene == ['A', 'A']:  AA_num += 1\n",
        "      elif entity.gene == ['A', 'a']:  Aa_num += 1\n",
        "      elif entity.gene == ['a', 'a']:  aa_num += 1\n",
        "    \n",
        "    whole_num = AA_num + Aa_num + aa_num\n",
        "    AA_ratio = AA_num / whole_num\n",
        "    Aa_ratio = Aa_num / whole_num\n",
        "    aa_ratio = 1 - (AA_ratio + Aa_ratio)\n",
        "\n",
        "    return [AA_ratio, Aa_ratio, aa_ratio]\n",
        "  \n",
        "  def shift_generation(self, num_of_children):\n",
        "    next_gen_entities = []\n",
        "    shuffle(self.entities)\n",
        "    for _ in range(num_of_children):\n",
        "      parents = sample(self.entities, 2)\n",
        "      child = self.mating(parents)\n",
        "      next_gen_entities.append(child)\n",
        "    \n",
        "    self.entities = next_gen_entities\n",
        "    AA_ratio, Aa_ratio, aa_ratio = self.getRatio()\n",
        "    print('AA 비율: {}, Aa 비율: {}, aa 비율: {}'.format(AA_ratio, Aa_ratio, aa_ratio))"
      ]
    },
    {
      "cell_type": "code",
      "source": [
        "AA_num = 2500\n",
        "Aa_num = 5000\n",
        "aa_num = 2500\n",
        "whole_num = AA_num + Aa_num + aa_num\n",
        "mendelian_population = Mendelian(AA_num, Aa_num, aa_num)\n",
        "\n",
        "mendelian_population.shift_generation(whole_num)"
      ],
      "metadata": {
        "colab": {
          "base_uri": "https://localhost:8080/"
        },
        "id": "IhjMEzhHDPXe",
        "outputId": "12d44585-3898-4939-d9b4-5ce0dff5d828"
      },
      "execution_count": 16,
      "outputs": [
        {
          "output_type": "stream",
          "name": "stdout",
          "text": [
            "AA 비율: 0.2543, Aa 비율: 0.4935, aa 비율: 0.2522\n"
          ]
        }
      ]
    },
    {
      "cell_type": "code",
      "source": [
        ""
      ],
      "metadata": {
        "id": "vbxBBRdNLvUn"
      },
      "execution_count": null,
      "outputs": []
    }
  ]
}