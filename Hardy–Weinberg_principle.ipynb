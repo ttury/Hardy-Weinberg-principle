{
  "nbformat": 4,
  "nbformat_minor": 0,
  "metadata": {
    "colab": {
      "name": "Hardy–Weinberg principle.ipynb",
      "provenance": [],
      "authorship_tag": "ABX9TyOS7rmcWsyYKse+IKhL5Zub",
      "include_colab_link": true
    },
    "kernelspec": {
      "name": "python3",
      "display_name": "Python 3"
    },
    "language_info": {
      "name": "python"
    }
  },
  "cells": [
    {
      "cell_type": "markdown",
      "metadata": {
        "id": "view-in-github",
        "colab_type": "text"
      },
      "source": [
        "<a href=\"https://colab.research.google.com/github/ttury/Hardy-Weinberg-principle/blob/main/Hardy%E2%80%93Weinberg_principle.ipynb\" target=\"_parent\"><img src=\"https://colab.research.google.com/assets/colab-badge.svg\" alt=\"Open In Colab\"/></a>"
      ]
    },
    {
      "cell_type": "code",
      "execution_count": 27,
      "metadata": {
        "id": "Q-e2x-i6CiRr"
      },
      "outputs": [],
      "source": [
        "from random import randint, shuffle, sample, choice\n",
        "\n",
        "class entity:\n",
        "  def __init__(self, gene):\n",
        "    self.gene = gene\n",
        "    # gene= [A, A] or [A, a] or [a, A] or [a, a]\n",
        "\n",
        "class Mendelian(entity):\n",
        "  def __init__(self, AA_num, Aa_num, aa_num):\n",
        "    self.entities = []\n",
        "    for _ in range(AA_num):\n",
        "      self.entities.append(entity(['A', 'A']))\n",
        "    for _ in range(Aa_num):\n",
        "      self.entities.append(entity(['A', 'a']))\n",
        "    for _ in range(aa_num):\n",
        "      self.entities.append(entity(['a', 'a']))\n",
        "\n",
        "  def mating(self, parents):\n",
        "    parent1 = parents[0]\n",
        "    parent2 = parents[1]\n",
        "    child_gene1 = parent1.gene[choice([0, 1])]\n",
        "    child_gene2 = parent2.gene[choice([0, 1])]\n",
        "    child_gene = [child_gene1, child_gene2]\n",
        "    if child_gene == ['a', 'A']:  child_gene = ['A', 'a']\n",
        "    child = entity(child_gene)\n",
        "    return child\n",
        "  \n",
        "  def getNum(self):\n",
        "    AA_num = 0\n",
        "    Aa_num = 0\n",
        "    aa_num = 0\n",
        "    for entity in self.entities:\n",
        "      if entity.gene == ['A', 'A']:  AA_num += 1\n",
        "      elif entity.gene == ['A', 'a']:  Aa_num += 1\n",
        "      elif entity.gene == ['a', 'a']:  aa_num += 1\n",
        "    \n",
        "    return [AA_num, Aa_num, aa_num]\n",
        "\n",
        "  def getRatio(self):\n",
        "    AA_num, Aa_num, aa_num = self.getNum()\n",
        "    whole_num = AA_num + Aa_num + aa_num\n",
        "    AA_ratio = AA_num / whole_num\n",
        "    Aa_ratio = Aa_num / whole_num\n",
        "    aa_ratio = 1 - (AA_ratio + Aa_ratio)\n",
        "\n",
        "    return [AA_ratio, Aa_ratio, aa_ratio]\n",
        "  \n",
        "  def shift_generation(self, num_of_children):\n",
        "    next_gen_entities = []\n",
        "    shuffle(self.entities)\n",
        "    for _ in range(num_of_children):\n",
        "      parents = sample(self.entities, 2)\n",
        "      child = self.mating(parents)\n",
        "      next_gen_entities.append(child)\n",
        "    \n",
        "    self.entities = next_gen_entities\n",
        "    # AA_ratio, Aa_ratio, aa_ratio = self.getRatio()\n",
        "    # print('AA 비율: {}, Aa 비율: {}, aa 비율: {}'.format(AA_ratio, Aa_ratio, aa_ratio))"
      ]
    },
    {
      "cell_type": "code",
      "source": [
        "AA_num = 2500\n",
        "Aa_num = 5000\n",
        "aa_num = 2500\n",
        "whole_num = AA_num + Aa_num + aa_num\n",
        "mendelian_population = Mendelian(AA_num, Aa_num, aa_num)\n",
        "\n",
        "mendelian_population.shift_generation(whole_num)"
      ],
      "metadata": {
        "colab": {
          "base_uri": "https://localhost:8080/"
        },
        "id": "IhjMEzhHDPXe",
        "outputId": "12d44585-3898-4939-d9b4-5ce0dff5d828"
      },
      "execution_count": 16,
      "outputs": [
        {
          "output_type": "stream",
          "name": "stdout",
          "text": [
            "AA 비율: 0.2543, Aa 비율: 0.4935, aa 비율: 0.2522\n"
          ]
        }
      ]
    },
    {
      "cell_type": "code",
      "source": [
        "import matplotlib.pyplot as plt\n",
        "import os\n",
        "from shutil import rmtree\n",
        "if os.path.exists('graphs'):  rmtree('graphs')\n",
        "os.mkdir('graphs')\n",
        "\n",
        "AA_num = 2500\n",
        "Aa_num = 5000\n",
        "aa_num = 2500\n",
        "whole_num = AA_num + Aa_num + aa_num\n",
        "mendelian_population = Mendelian(AA_num, Aa_num, aa_num)\n",
        "\n",
        "labels = ['AA', 'Aa', 'aa']\n",
        "colors = ['#ff9999', '#8fd9b6', '#d395d0']\n",
        "wedgeprops={'width': 0.7, 'edgecolor': 'w', 'linewidth': 5}\n",
        "\n",
        "for i in range(2, 101):\n",
        "  mendelian_population.shift_generation(whole_num)\n",
        "  AA_num, Aa_num, aa_num = mendelian_population.getNum()\n",
        "\n",
        "  ratio = [AA_num, Aa_num, aa_num]\n",
        "\n",
        "  plt.title('generation : {}'.format(i))\n",
        "  plt.pie(ratio, labels=labels, autopct='%.1f%%', startangle=260, counterclock=False, colors=colors, wedgeprops=wedgeprops)\n",
        "  plt.savefig('./graphs/gen_{}.png'.format(i))\n",
        "  plt.show()"
      ],
      "metadata": {
        "id": "vbxBBRdNLvUn"
      },
      "execution_count": null,
      "outputs": []
    },
    {
      "cell_type": "code",
      "source": [
        "import os\n",
        "from PIL import Image\n",
        "from IPython.display import Image as Img\n",
        "from IPython.display import display\n",
        "\n",
        "def generate_gif(path):\n",
        "    img_list = os.listdir(path)\n",
        "    img_list = [path + '/' + 'gen_{}'.format(i) + '.png' for i in range(2, 101)]\n",
        "    print(img_list)\n",
        "    images = [Image.open(x) for x in img_list]\n",
        "    \n",
        "    im = images[0]\n",
        "    im.save('out.gif', save_all=True, append_images=images[1:],loop=0xff, duration=100)\n",
        "    # loop 반복 횟수\n",
        "    # duration 프레임 전환 속도 (500 = 0.5초)\n",
        "    return Img(url='out.gif')\n",
        "\n",
        "generate_gif('./graphs')"
      ],
      "metadata": {
        "colab": {
          "resources": {
            "http://localhost:8080/out.gif": {
              "data": "CjwhRE9DVFlQRSBodG1sPgo8aHRtbCBsYW5nPWVuPgogIDxtZXRhIGNoYXJzZXQ9dXRmLTg+CiAgPG1ldGEgbmFtZT12aWV3cG9ydCBjb250ZW50PSJpbml0aWFsLXNjYWxlPTEsIG1pbmltdW0tc2NhbGU9MSwgd2lkdGg9ZGV2aWNlLXdpZHRoIj4KICA8dGl0bGU+RXJyb3IgNDA0IChOb3QgRm91bmQpISExPC90aXRsZT4KICA8c3R5bGU+CiAgICAqe21hcmdpbjowO3BhZGRpbmc6MH1odG1sLGNvZGV7Zm9udDoxNXB4LzIycHggYXJpYWwsc2Fucy1zZXJpZn1odG1se2JhY2tncm91bmQ6I2ZmZjtjb2xvcjojMjIyO3BhZGRpbmc6MTVweH1ib2R5e21hcmdpbjo3JSBhdXRvIDA7bWF4LXdpZHRoOjM5MHB4O21pbi1oZWlnaHQ6MTgwcHg7cGFkZGluZzozMHB4IDAgMTVweH0qID4gYm9keXtiYWNrZ3JvdW5kOnVybCgvL3d3dy5nb29nbGUuY29tL2ltYWdlcy9lcnJvcnMvcm9ib3QucG5nKSAxMDAlIDVweCBuby1yZXBlYXQ7cGFkZGluZy1yaWdodDoyMDVweH1we21hcmdpbjoxMXB4IDAgMjJweDtvdmVyZmxvdzpoaWRkZW59aW5ze2NvbG9yOiM3Nzc7dGV4dC1kZWNvcmF0aW9uOm5vbmV9YSBpbWd7Ym9yZGVyOjB9QG1lZGlhIHNjcmVlbiBhbmQgKG1heC13aWR0aDo3NzJweCl7Ym9keXtiYWNrZ3JvdW5kOm5vbmU7bWFyZ2luLXRvcDowO21heC13aWR0aDpub25lO3BhZGRpbmctcmlnaHQ6MH19I2xvZ297YmFja2dyb3VuZDp1cmwoLy93d3cuZ29vZ2xlLmNvbS9pbWFnZXMvbG9nb3MvZXJyb3JwYWdlL2Vycm9yX2xvZ28tMTUweDU0LnBuZykgbm8tcmVwZWF0O21hcmdpbi1sZWZ0Oi01cHh9QG1lZGlhIG9ubHkgc2NyZWVuIGFuZCAobWluLXJlc29sdXRpb246MTkyZHBpKXsjbG9nb3tiYWNrZ3JvdW5kOnVybCgvL3d3dy5nb29nbGUuY29tL2ltYWdlcy9sb2dvcy9lcnJvcnBhZ2UvZXJyb3JfbG9nby0xNTB4NTQtMngucG5nKSBuby1yZXBlYXQgMCUgMCUvMTAwJSAxMDAlOy1tb3otYm9yZGVyLWltYWdlOnVybCgvL3d3dy5nb29nbGUuY29tL2ltYWdlcy9sb2dvcy9lcnJvcnBhZ2UvZXJyb3JfbG9nby0xNTB4NTQtMngucG5nKSAwfX1AbWVkaWEgb25seSBzY3JlZW4gYW5kICgtd2Via2l0LW1pbi1kZXZpY2UtcGl4ZWwtcmF0aW86Mil7I2xvZ297YmFja2dyb3VuZDp1cmwoLy93d3cuZ29vZ2xlLmNvbS9pbWFnZXMvbG9nb3MvZXJyb3JwYWdlL2Vycm9yX2xvZ28tMTUweDU0LTJ4LnBuZykgbm8tcmVwZWF0Oy13ZWJraXQtYmFja2dyb3VuZC1zaXplOjEwMCUgMTAwJX19I2xvZ297ZGlzcGxheTppbmxpbmUtYmxvY2s7aGVpZ2h0OjU0cHg7d2lkdGg6MTUwcHh9CiAgPC9zdHlsZT4KICA8YSBocmVmPS8vd3d3Lmdvb2dsZS5jb20vPjxzcGFuIGlkPWxvZ28gYXJpYS1sYWJlbD1Hb29nbGU+PC9zcGFuPjwvYT4KICA8cD48Yj40MDQuPC9iPiA8aW5zPlRoYXTigJlzIGFuIGVycm9yLjwvaW5zPgogIDxwPiAgPGlucz5UaGF04oCZcyBhbGwgd2Uga25vdy48L2lucz4K",
              "ok": false,
              "headers": [
                [
                  "content-length",
                  "1449"
                ],
                [
                  "content-type",
                  "text/html; charset=utf-8"
                ]
              ],
              "status": 404,
              "status_text": ""
            }
          },
          "base_uri": "https://localhost:8080/",
          "height": 74
        },
        "id": "Csl1jd8ZVnuc",
        "outputId": "86be314b-a724-40e7-d2fe-f068786b4579"
      },
      "execution_count": 49,
      "outputs": [
        {
          "output_type": "stream",
          "name": "stdout",
          "text": [
            "['./graphs/gen_2.png', './graphs/gen_3.png', './graphs/gen_4.png', './graphs/gen_5.png', './graphs/gen_6.png', './graphs/gen_7.png', './graphs/gen_8.png', './graphs/gen_9.png', './graphs/gen_10.png', './graphs/gen_11.png', './graphs/gen_12.png', './graphs/gen_13.png', './graphs/gen_14.png', './graphs/gen_15.png', './graphs/gen_16.png', './graphs/gen_17.png', './graphs/gen_18.png', './graphs/gen_19.png', './graphs/gen_20.png', './graphs/gen_21.png', './graphs/gen_22.png', './graphs/gen_23.png', './graphs/gen_24.png', './graphs/gen_25.png', './graphs/gen_26.png', './graphs/gen_27.png', './graphs/gen_28.png', './graphs/gen_29.png', './graphs/gen_30.png', './graphs/gen_31.png', './graphs/gen_32.png', './graphs/gen_33.png', './graphs/gen_34.png', './graphs/gen_35.png', './graphs/gen_36.png', './graphs/gen_37.png', './graphs/gen_38.png', './graphs/gen_39.png', './graphs/gen_40.png', './graphs/gen_41.png', './graphs/gen_42.png', './graphs/gen_43.png', './graphs/gen_44.png', './graphs/gen_45.png', './graphs/gen_46.png', './graphs/gen_47.png', './graphs/gen_48.png', './graphs/gen_49.png', './graphs/gen_50.png', './graphs/gen_51.png', './graphs/gen_52.png', './graphs/gen_53.png', './graphs/gen_54.png', './graphs/gen_55.png', './graphs/gen_56.png', './graphs/gen_57.png', './graphs/gen_58.png', './graphs/gen_59.png', './graphs/gen_60.png', './graphs/gen_61.png', './graphs/gen_62.png', './graphs/gen_63.png', './graphs/gen_64.png', './graphs/gen_65.png', './graphs/gen_66.png', './graphs/gen_67.png', './graphs/gen_68.png', './graphs/gen_69.png', './graphs/gen_70.png', './graphs/gen_71.png', './graphs/gen_72.png', './graphs/gen_73.png', './graphs/gen_74.png', './graphs/gen_75.png', './graphs/gen_76.png', './graphs/gen_77.png', './graphs/gen_78.png', './graphs/gen_79.png', './graphs/gen_80.png', './graphs/gen_81.png', './graphs/gen_82.png', './graphs/gen_83.png', './graphs/gen_84.png', './graphs/gen_85.png', './graphs/gen_86.png', './graphs/gen_87.png', './graphs/gen_88.png', './graphs/gen_89.png', './graphs/gen_90.png', './graphs/gen_91.png', './graphs/gen_92.png', './graphs/gen_93.png', './graphs/gen_94.png', './graphs/gen_95.png', './graphs/gen_96.png', './graphs/gen_97.png', './graphs/gen_98.png', './graphs/gen_99.png', './graphs/gen_100.png']\n"
          ]
        },
        {
          "output_type": "execute_result",
          "data": {
            "text/plain": [
              "<IPython.core.display.Image object>"
            ],
            "text/html": [
              "<img src=\"out.gif\"/>"
            ]
          },
          "metadata": {},
          "execution_count": 49
        }
      ]
    },
    {
      "cell_type": "code",
      "source": [
        ""
      ],
      "metadata": {
        "id": "PArpBkD1QTcB"
      },
      "execution_count": null,
      "outputs": []
    }
  ]
}